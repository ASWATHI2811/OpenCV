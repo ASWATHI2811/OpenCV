{
 "cells": [
  {
   "cell_type": "code",
   "execution_count": 1,
   "metadata": {},
   "outputs": [],
   "source": [
    "import cv2\n",
    "import mediapipe as mp"
   ]
  },
  {
   "cell_type": "code",
   "execution_count": 2,
   "metadata": {},
   "outputs": [],
   "source": [
    "mppose=mp.solutions.pose\n",
    "draw=mp.solutions.drawing_utils\n",
    "mpdraw_styles=mp.solutions.drawing_styles\n",
    "pose=mppose.Pose()\n",
    "\n",
    "    "
   ]
  },
  {
   "cell_type": "code",
   "execution_count": 3,
   "metadata": {},
   "outputs": [],
   "source": [
    "position=None\n",
    "count=0\n",
    "cap=cv2.VideoCapture(0)\n",
    "with mppose.Pose(min_detection_confidence=0.7,min_tracking_confidence=0.7)as pose:\n",
    "\n",
    "  while True:\n",
    "   su,image=cap.read()\n",
    "   image=cv2.flip(image,1)\n",
    "   image=cv2.cvtColor(image,cv2.COLOR_BGR2RGB)\n",
    "   results=pose.process(image)\n",
    "   image=cv2.cvtColor(image,cv2.COLOR_RGB2BGR)\n",
    "   image=cv2.rectangle(image,(20,200),(90,290),(0,255,0),cv2.FILLED)\n",
    "   image=cv2.rectangle(image,(20,200),(90,290),(255,0,0),4)\n",
    "   lm_list=[]\n",
    "\n",
    "   if results.pose_landmarks:\n",
    "      #for dect in results.pose_landmarks:\n",
    "        draw.draw_landmarks(image,results.pose_landmarks,mppose.POSE_CONNECTIONS)\n",
    "        for id,lm in enumerate(results.pose_landmarks.landmark):\n",
    "             cx=lm.x\n",
    "             cy=lm.y\n",
    "             lm_list.append([id,cx,cy])\n",
    "             #print(lm_list)\n",
    "   \n",
    "   if len(lm_list)!=0 :\n",
    "        if lm_list[24][2] and lm_list[23][2] >=lm_list[26][2] and lm_list[25][2] :\n",
    "            position='down'\n",
    "        if lm_list[24][2] and lm_list[23][2] <=lm_list[26][2] and lm_list[25][2] and position=='down':\n",
    "            position='up'\n",
    "            count=count+1\n",
    "            print(count)\n",
    "          \n",
    "        cv2.putText(image,str(count),(35,260),cv2.FONT_HERSHEY_COMPLEX,2,(0,0,0),5)\n",
    "      \n",
    "\n",
    "   cv2.imshow('pose',image)\n",
    "   if cv2.waitKey(1) & 0XFF==ord('q'):\n",
    "      break\n",
    "cap.release()\n",
    "cv2.destroyAllWindows()\n"
   ]
  }
 ],
 "metadata": {
  "kernelspec": {
   "display_name": "Python 3",
   "language": "python",
   "name": "python3"
  },
  "language_info": {
   "codemirror_mode": {
    "name": "ipython",
    "version": 3
   },
   "file_extension": ".py",
   "mimetype": "text/x-python",
   "name": "python",
   "nbconvert_exporter": "python",
   "pygments_lexer": "ipython3",
   "version": "3.10.9"
  },
  "orig_nbformat": 4
 },
 "nbformat": 4,
 "nbformat_minor": 2
}
